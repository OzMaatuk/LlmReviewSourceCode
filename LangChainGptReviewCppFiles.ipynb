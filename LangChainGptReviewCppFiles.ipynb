{
 "cells": [
  {
   "cell_type": "code",
   "execution_count": null,
   "metadata": {},
   "outputs": [],
   "source": [
    "import os\n",
    "from dotenv import load_dotenv\n",
    "from langchain.embeddings.openai import OpenAIEmbeddings\n",
    "from langchain.llms import OpenAI\n",
    "from langchain.text_splitter import CharacterTextSplitter\n",
    "from langchain.chains import RetrievalQA\n",
    "from langchain.vectorstores import Chroma\n",
    "import chromadb\n",
    "load_dotenv()"
   ]
  },
  {
   "cell_type": "code",
   "execution_count": null,
   "metadata": {},
   "outputs": [],
   "source": [
    "PROJECT_SOURCE_FILES_PATH = \"\"\n",
    "PROJECT_INCLUDE_FILES_PATH = \"\" # for cpp project\n",
    "PROJECT_DESCRIPTION_PROPMT = \"\""
   ]
  },
  {
   "cell_type": "code",
   "execution_count": null,
   "metadata": {},
   "outputs": [],
   "source": [
    "project_source = [PROJECT_INCLUDE_FILES_PATH,\n",
    "                  PROJECT_SOURCE_FILES_PATH]\n",
    "# llm = ChatOpenAI(model_name='gpt-4')\n",
    "llm = OpenAI(model_name='gpt-4', max_tokens=-1)\n",
    "persist_directory = \"./storage\"\n",
    "chroma_client = chromadb.PersistentClient(path=persist_directory)"
   ]
  },
  {
   "cell_type": "code",
   "execution_count": null,
   "metadata": {},
   "outputs": [],
   "source": [
    "def iterate_over_files(project_source):\n",
    "    for element in project_source:\n",
    "        for root, dirs, files in os.walk(element):\n",
    "            for file in files:\n",
    "                yield os.path.join(root, file)"
   ]
  },
  {
   "cell_type": "code",
   "execution_count": null,
   "metadata": {},
   "outputs": [],
   "source": [
    "all_files_content = \"\"\n",
    "concatenated_contents = PROJECT_DESCRIPTION_PROPMT + \".\\n\"\n",
    "for file in iterate_over_files(project_source):\n",
    "    print(\"Opening file: \" + file)\n",
    "    with open(file, \"r\", encoding=\"iso-8859-1\") as f:\n",
    "        concatenated_contents += \"//\" + file + \"\\n\"\n",
    "        tmp = f.read()\n",
    "        concatenated_contents += tmp\n",
    "        if (file.endswith(\".cpp\")): all_files_content += tmp + \"\\n\""
   ]
  },
  {
   "cell_type": "code",
   "execution_count": null,
   "metadata": {},
   "outputs": [],
   "source": [
    "# We proceed by segmenting the documents and generating their embeddings. \n",
    "text_splitter = CharacterTextSplitter(chunk_size=1024, chunk_overlap=0)\n",
    "docs = text_splitter.split_text(concatenated_contents)\n",
    "embeddings = OpenAIEmbeddings()\n",
    "vectordb = Chroma.from_texts(texts=docs, \n",
    "                            embedding=embeddings,\n",
    "                            persist_directory=persist_directory)\n",
    "vectordb.persist()"
   ]
  },
  {
   "cell_type": "code",
   "execution_count": null,
   "metadata": {},
   "outputs": [],
   "source": [
    "retriever = vectordb.as_retriever()\n",
    "qa = RetrievalQA.from_chain_type(llm=llm, chain_type=\"stuff\", retriever=retriever)"
   ]
  },
  {
   "cell_type": "code",
   "execution_count": null,
   "metadata": {},
   "outputs": [],
   "source": [
    "try:\n",
    "    for file in iterate_over_files(project_source):\n",
    "        print(\"Opening file: \" + file)\n",
    "        with open(file, \"r\", encoding=\"iso-8859-1\") as f:\n",
    "            tmp = f.read()\n",
    "            query = \"Provided the following code: \" + tmp\n",
    "            query += \"\\nPlease add to the code the necessary documentation to make code more clear, only where things are not clear from name or existing comments.\"\n",
    "            # print(query)\n",
    "\n",
    "            file_format = \"\"\n",
    "            # if (file[-1] == \"h\"): file_format = \".h\"\n",
    "            # else: file_format = \".cpp\"\n",
    "            name = os.path.splitext(os.path.basename(file))[0] + file_format\n",
    "\n",
    "            llm_response = qa(query)\n",
    "            o = open(name, \"w\")\n",
    "            o.write(llm_response[\"result\"])\n",
    "            o.close()\n",
    "except Exception as err:\n",
    "    print('Exception occurred. Please try again', str(err))\n",
    "        "
   ]
  }
 ],
 "metadata": {
  "kernelspec": {
   "display_name": "Python 3",
   "language": "python",
   "name": "python3"
  },
  "language_info": {
   "codemirror_mode": {
    "name": "ipython",
    "version": 3
   },
   "file_extension": ".py",
   "mimetype": "text/x-python",
   "name": "python",
   "nbconvert_exporter": "python",
   "pygments_lexer": "ipython3",
   "version": "3.11.3"
  },
  "orig_nbformat": 4
 },
 "nbformat": 4,
 "nbformat_minor": 2
}
